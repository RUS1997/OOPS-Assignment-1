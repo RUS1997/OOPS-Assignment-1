{
  "nbformat": 4,
  "nbformat_minor": 0,
  "metadata": {
    "colab": {
      "provenance": []
    },
    "kernelspec": {
      "name": "python3",
      "display_name": "Python 3"
    },
    "language_info": {
      "name": "python"
    }
  },
  "cells": [
    {
      "cell_type": "code",
      "execution_count": null,
      "metadata": {
        "id": "kK7MKzts1ZUb"
      },
      "outputs": [],
      "source": [
        "#Theoretical Questions"
      ]
    },
    {
      "cell_type": "markdown",
      "source": [
        "#Q1. What is Object-Oriented Programming (OOP)?\n",
        "  - OOP is a programming paradigm centered around objects, which encapsulate data and behavior. It emphasizes principles like encapsulation, inheritance, and polymorphism to model real-world entities and relationships.\n",
        "#Q2. What is a class in OOP?\n",
        "  - A class is a blueprint for creating objects. It defines attributes (data) and methods (functions) that the instantiated objects will have.\n",
        "#Q3. What is an object in OOP?\n",
        "  - An object is an instance of a class. It contains real values instead of variables and can perform actions defined by its class's methods.\n",
        "#Q4. What is the difference between abstraction and encapsulation?\n",
        "  - Abstraction: Hides complex implementation details and shows only essential features of an object.\n",
        "  - Encapsulation: Restricts direct access to some of an object's components which is a means of preventing unintended interference and misuse.\n",
        "#Q5. What are dunder methods in Python?\n",
        "  - Dunder (double underscore) methods are special methods in Python with names like __init__, __str__, and __add__. They allow customization of built-in behaviors and operator overloading.\n",
        "#Q6. Explain the concept of inheritance in OOP.\n",
        "  - Inheritance allows a class (child) to acquire properties and behaviors (methods) from another class (parent), promoting code reuse and hierarchical classification.\n",
        "#Q7. What is polymorphism in OOP?\n",
        "  - Polymorphism enables objects of different classes to be treated as objects of a common superclass. It allows for methods to behave differently based on the object calling them.\n",
        "#Q8. How is encapsulation achieved in Python?\n",
        "  - Encapsulation in Python is achieved by defining class attributes as private (using a single or double underscore prefix) and providing public methods to access or modify them.\n",
        "#Q9. What is a constructor in Python?\n",
        "  - A constructor is a special method __init__ in Python classes. It's called when an object is instantiated and is used to initialize the object's attributes.\n",
        "#Q10. What are class and static methods in Python?\n",
        "  - Class methods: Defined with @classmethod, they take the class (cls) as the first argument and can modify class state.\n",
        "  - Static methods: Defined with @staticmethod, they don't take self or cls as arguments and can't modify object or class state.\n",
        "#Q11. What is method overloading in Python?\n",
        "  - Python doesn't support traditional method overloading. However, similar behavior can be achieved using default arguments or variable-length arguments (*args, **kwargs).\n",
        "#Q12. What is method overriding in OOP?\n",
        "  - Method overriding occurs when a subclass provides a specific implementation of a method already defined in its superclass.\n",
        "#Q13. What is a property decorator in Python?\n",
        "  - The @property decorator in Python allows a method to be accessed like an attribute, enabling getter, setter, and deleter functionalities.\n",
        "#Q14. Why is polymorphism important in OOP?\n",
        "  - Polymorphism enhances flexibility and integration in code, allowing different objects to be treated uniformly based on shared interfaces or parent classes.\n",
        "#Q15. What is an abstract class in Python?\n",
        "  - An abstract class in Python is a class that cannot be instantiated and often includes abstract methods that must be implemented by subclasses. It's defined using the abc module.\n",
        "#Q16. What are the advantages of OOP?\n",
        "  - Modularity: Code is organized into classes.\n",
        "  - Reusability: Inheritance allows code reuse.\n",
        "  - Flexibility: Polymorphism enables code to handle different object types.\n",
        "  - Maintainability: Encapsulation makes code easier to manage and modify.\n",
        "#Q17. What is the difference between a class variable and an instance variable?\n",
        "  - Class variable: Shared across all instances of the class.\n",
        "  - Instance variable: Unique to each object instance.\n",
        "#Q18. What is multiple inheritance in Python?\n",
        "  - Multiple inheritance allows a class to inherit attributes and methods from more than one parent class. Python supports this feature.\n",
        "#Q19. Explain the purpose of __str__ and __repr__ methods in Python.\n",
        "  - __str__: Returns a readable string representation of an object, used by print().\n",
        "  - __repr__: Returns an official string representation of an object, used in the interpreter.\n",
        "#Q20. What is the significance of the super() function in Python?\n",
        "  - The super() function allows access to methods of a superclass from the subclass, facilitating method overriding and extension.\n",
        "#Q21. What is the significance of the __del__ method in Python?\n",
        "  - The __del__ method is a destructor called when an object is about to be destroyed. It's used to perform clean-up activities.\n",
        "#Q22. What is the difference between @staticmethod and @classmethod in Python?\n",
        "  - @staticmethod: Doesn't access class or instance data.\n",
        "  - @classmethod: Accesses class data and can modify class state.\n",
        "#Q23. How does polymorphism work in Python with inheritance?\n",
        "  - In Python, polymorphism allows a subclass to override methods of its superclass, enabling different behaviors while sharing the same interface.\n",
        "#Q24. What is method chaining in Python OOP?\n",
        "  - Method chaining is a technique where multiple methods are called sequentially on the same object in a single statement, achieved by having methods return self.\n",
        "#Q25. What is the purpose of the __call__ method in Python?\n",
        "  - The __call__ method allows an instance of a class to be called as a function. Defining this method makes the object callable."
      ],
      "metadata": {
        "id": "ceJwyv1q2a9b"
      }
    },
    {
      "cell_type": "markdown",
      "source": [],
      "metadata": {
        "id": "TSLEdBF22WTc"
      }
    },
    {
      "cell_type": "code",
      "source": [
        "# Practical Questions"
      ],
      "metadata": {
        "id": "vxMUlMXy5TLe"
      },
      "execution_count": null,
      "outputs": []
    },
    {
      "cell_type": "code",
      "source": [
        "#Q1. Create a parent class Animal with a method speak() that prints a generic message. Create a child class Dog that overrides the speak() method to print \"Bark!\".\n",
        "class Animal:\n",
        "    def speak(self):\n",
        "        print(\"The animal makes a sound\")\n",
        "\n",
        "class Dog(Animal):\n",
        "    def speak(self):\n",
        "        print(\"Bark!\")"
      ],
      "metadata": {
        "id": "AOay_yEE5eUJ"
      },
      "execution_count": 2,
      "outputs": []
    },
    {
      "cell_type": "code",
      "source": [
        "animal = Animal()\n",
        "animal.speak()"
      ],
      "metadata": {
        "colab": {
          "base_uri": "https://localhost:8080/"
        },
        "id": "fHCSElLr6DT1",
        "outputId": "b3bfa949-86af-461a-d339-776693d789e0"
      },
      "execution_count": 4,
      "outputs": [
        {
          "output_type": "stream",
          "name": "stdout",
          "text": [
            "The animal makes a sound\n"
          ]
        }
      ]
    },
    {
      "cell_type": "code",
      "source": [
        "dog = Dog()\n",
        "dog.speak()"
      ],
      "metadata": {
        "colab": {
          "base_uri": "https://localhost:8080/"
        },
        "id": "jJ-To3Dx6NYk",
        "outputId": "55c85fc3-a9c9-415c-fc5f-981162451ada"
      },
      "execution_count": 5,
      "outputs": [
        {
          "output_type": "stream",
          "name": "stdout",
          "text": [
            "Bark!\n"
          ]
        }
      ]
    },
    {
      "cell_type": "code",
      "source": [
        "#Q2. Write a program to create an abstract class Shape with a method area(). Derive classes Circle and Rectangle from it and implement the area() method in both.\n",
        "from abc import ABC, abstractmethod\n",
        "import math\n",
        "\n",
        "class Shape(ABC):\n",
        "    @abstractmethod\n",
        "    def area(self):\n",
        "        pass\n",
        "\n",
        "class Circle(Shape):\n",
        "    def __init__(self, radius):\n",
        "        self.radius = radius\n",
        "\n",
        "    def area(self):\n",
        "        return math.pi*self.radius**2\n",
        "\n",
        "class Rectangle(Shape):\n",
        "    def __init__(self, width, height):\n",
        "        self.width = width\n",
        "        self.height = height\n",
        "\n",
        "    def area(self):\n",
        "        return self.width*self.height"
      ],
      "metadata": {
        "id": "Z9VxDf7V6Qod"
      },
      "execution_count": 24,
      "outputs": []
    },
    {
      "cell_type": "code",
      "source": [
        "circle = Circle(5)\n",
        "print(f\"Circle area: {circle.area()}\")"
      ],
      "metadata": {
        "colab": {
          "base_uri": "https://localhost:8080/"
        },
        "id": "K7SW7_Db61rF",
        "outputId": "1f438658-e0ab-4a01-dab4-bbb62fc76212"
      },
      "execution_count": 25,
      "outputs": [
        {
          "output_type": "stream",
          "name": "stdout",
          "text": [
            "Circle area: 78.53981633974483\n"
          ]
        }
      ]
    },
    {
      "cell_type": "code",
      "source": [
        "rectangle = Rectangle(4, 6)\n",
        "print(f\"Rectangle area: {rectangle.area()}\")"
      ],
      "metadata": {
        "colab": {
          "base_uri": "https://localhost:8080/"
        },
        "id": "4iYF844X7Gle",
        "outputId": "96ed844d-a459-4efa-bd67-b0e4261e0d00"
      },
      "execution_count": 26,
      "outputs": [
        {
          "output_type": "stream",
          "name": "stdout",
          "text": [
            "Rectangle area: 24\n"
          ]
        }
      ]
    },
    {
      "cell_type": "code",
      "source": [
        "#Q3. Implement a multi-level inheritance scenario where a class Vehicle has an attribute type. Derive a class Car and further derive a class ElectricCar that adds a battery attribute.\n",
        "class Vehicle:\n",
        "    def __init__(self, vehicle_type):\n",
        "        self.vehicle_type = vehicle_type\n",
        "\n",
        "class Car(Vehicle):\n",
        "    def __init__(self, vehicle_type, brand):\n",
        "        super().__init__(vehicle_type)\n",
        "        self.brand = brand\n",
        "\n",
        "class ElectricCar(Car):\n",
        "    def __init__(self, vehicle_type, brand, battery_capacity):\n",
        "        super().__init__(vehicle_type, brand)\n",
        "        self.battery_capacity = battery_capacity"
      ],
      "metadata": {
        "id": "V4_vJGqH7Oqa"
      },
      "execution_count": 27,
      "outputs": []
    },
    {
      "cell_type": "code",
      "source": [
        "tata_Punch = ElectricCar(\"Electric Vehicle\", \"Tata_Punch\", \"100 kWh\")\n",
        "print(f\"Type: {tata_Punch.vehicle_type}, Brand: {tata_Punch.brand}, Battery: {tata_Punch.battery_capacity}\")"
      ],
      "metadata": {
        "colab": {
          "base_uri": "https://localhost:8080/"
        },
        "id": "4HK0r8_M7bj7",
        "outputId": "c85a8c71-41e2-43c5-9868-3bd6f35ec1d3"
      },
      "execution_count": 28,
      "outputs": [
        {
          "output_type": "stream",
          "name": "stdout",
          "text": [
            "Type: Electric Vehicle, Brand: Tata_Punch, Battery: 100 kWh\n"
          ]
        }
      ]
    },
    {
      "cell_type": "code",
      "source": [
        "#Q4. Demonstrate polymorphism by creating a base class Bird with a method fly(). Create two derived classes Sparrow and Penguin that override the fly() method.\n",
        "class Bird:\n",
        "    def fly(self):\n",
        "        print(\"The bird is flying\")\n",
        "\n",
        "class Sparrow(Bird):\n",
        "    def fly(self):\n",
        "        print(\"The sparrow is flying\")\n",
        "\n",
        "class Penguin(Bird):\n",
        "    def fly(self):\n",
        "        print(\"The penguin is not flying\")"
      ],
      "metadata": {
        "id": "eUOelEq29Wbt"
      },
      "execution_count": 29,
      "outputs": []
    },
    {
      "cell_type": "code",
      "source": [
        "birds = [Bird(), Sparrow(), Penguin()]\n",
        "for bird in birds:\n",
        "    bird.fly()"
      ],
      "metadata": {
        "colab": {
          "base_uri": "https://localhost:8080/"
        },
        "id": "bSMO5AE-9jNb",
        "outputId": "1ed00b3b-8cce-438c-9f97-abf01d3d7127"
      },
      "execution_count": 30,
      "outputs": [
        {
          "output_type": "stream",
          "name": "stdout",
          "text": [
            "The bird is flying\n",
            "The sparrow is flying\n",
            "The penguin is not flying\n"
          ]
        }
      ]
    },
    {
      "cell_type": "code",
      "source": [
        "#Q5. Write a program to demonstrate encapsulation by creating a class BankAccount with private attributes balance and methods to deposit, withdraw, and check balance.\n",
        "\n",
        "class BankAccount:\n",
        "    def __init__(self, initial_balance=0):\n",
        "        self._balance = initial_balance\n",
        "\n",
        "    def deposit(self, amount):\n",
        "        if amount > 0:\n",
        "            self._balance += amount\n",
        "\n",
        "    def withdraw(self, amount):\n",
        "        if 0 < amount <= self._balance:\n",
        "            self._balance -= amount\n",
        "            return True\n",
        "        return False\n",
        "\n",
        "    def get_balance(self):\n",
        "        return self._balance"
      ],
      "metadata": {
        "id": "GQAdgaKR8A6E"
      },
      "execution_count": 32,
      "outputs": []
    },
    {
      "cell_type": "code",
      "source": [
        "account = BankAccount(1000)\n",
        "account.deposit(500)\n",
        "account.withdraw(200)\n",
        "print(f\"Current balance: {account.get_balance()}\")"
      ],
      "metadata": {
        "colab": {
          "base_uri": "https://localhost:8080/"
        },
        "id": "J5Ed527b8uR3",
        "outputId": "e02279d7-e7d4-4532-8efd-477a69b2551d"
      },
      "execution_count": 33,
      "outputs": [
        {
          "output_type": "stream",
          "name": "stdout",
          "text": [
            "Current balance: 1300\n"
          ]
        }
      ]
    },
    {
      "cell_type": "code",
      "source": [
        "#Q6. Demonstrate runtime polymorphism using a method play() in a base class Instrument. Derive classes Guitar and Piano that implement their own version of play().\n",
        "class Instrument:\n",
        "    def play(self):\n",
        "        print(\"The instrument is playing\")\n",
        "\n",
        "class Guitar(Instrument):\n",
        "    def play(self):\n",
        "        print(\"Guitar is playing\")\n",
        "\n",
        "class Piano(Instrument):\n",
        "    def play(self):\n",
        "        print(\"Piano is playing\")"
      ],
      "metadata": {
        "id": "7RC5ISCu9SJ9"
      },
      "execution_count": 34,
      "outputs": []
    },
    {
      "cell_type": "code",
      "source": [
        "instruments = [Instrument(), Guitar(), Piano()]\n",
        "for instrument in instruments:\n",
        "    instrument.play()"
      ],
      "metadata": {
        "colab": {
          "base_uri": "https://localhost:8080/"
        },
        "id": "lVlH2Db7-lii",
        "outputId": "32a6aecb-198b-44c6-aa45-0153b718199c"
      },
      "execution_count": 35,
      "outputs": [
        {
          "output_type": "stream",
          "name": "stdout",
          "text": [
            "The instrument is playing\n",
            "Guitar is playing\n",
            "Piano is playing\n"
          ]
        }
      ]
    },
    {
      "cell_type": "code",
      "source": [
        "#Q7. Create a class MathOperations with a class method add_numbers() to add two numbers and a static method subtract_numbers() to subtract two numbers.\n",
        "class MathOperations:\n",
        "    @classmethod\n",
        "    def add_numbers(cls, a, b):\n",
        "        return a + b\n",
        "\n",
        "    @staticmethod\n",
        "    def subtract_numbers(a, b):\n",
        "        return a - b"
      ],
      "metadata": {
        "id": "kgNoicNs-y_0"
      },
      "execution_count": 36,
      "outputs": []
    },
    {
      "cell_type": "code",
      "source": [
        "print(f\"Addition: {MathOperations.add_numbers(10, 5)}\")\n",
        "print(f\"Subtraction: {MathOperations.subtract_numbers(10, 5)}\")"
      ],
      "metadata": {
        "colab": {
          "base_uri": "https://localhost:8080/"
        },
        "id": "KH8Xo5qk-8i_",
        "outputId": "e7f764f8-b7a4-4f3d-e0ac-11cb415b0d2f"
      },
      "execution_count": 37,
      "outputs": [
        {
          "output_type": "stream",
          "name": "stdout",
          "text": [
            "Addition: 15\n",
            "Subtraction: 5\n"
          ]
        }
      ]
    },
    {
      "cell_type": "code",
      "source": [
        "#Q8. Implement a class Person with a class method to count the total number of persons created.\n",
        "class Person:\n",
        "    total_persons = 0\n",
        "\n",
        "    def __init__(self, name):\n",
        "        self.name = name\n",
        "        Person.total_persons += 1\n",
        "\n",
        "    @classmethod\n",
        "    def get_total_persons(cls):\n",
        "        return cls.total_persons"
      ],
      "metadata": {
        "id": "z6iFtdJw_EZ_"
      },
      "execution_count": 44,
      "outputs": []
    },
    {
      "cell_type": "code",
      "source": [
        "p1 = Person(\"Rushikesh\")\n",
        "p2 = Person(\"Wakte\")\n",
        "print(f\"Total persons created: {Person.get_total_persons()}\")"
      ],
      "metadata": {
        "colab": {
          "base_uri": "https://localhost:8080/"
        },
        "id": "eGTZzXHM_RCM",
        "outputId": "ab87e747-b955-482b-9871-c63afd2b69f4"
      },
      "execution_count": 45,
      "outputs": [
        {
          "output_type": "stream",
          "name": "stdout",
          "text": [
            "Total persons created: 2\n"
          ]
        }
      ]
    },
    {
      "cell_type": "code",
      "source": [
        "#Q9. Write a class Fraction with attributes numerator and denominator. Override the str method to display the fraction as \"numerator/denominator\".\n",
        "class Fraction:\n",
        "    def __init__(self, numerator, denominator):\n",
        "        self.numerator = numerator\n",
        "        self.denominator = denominator\n",
        "\n",
        "    def __str__(self):\n",
        "        return f\"{self.numerator}/{self.denominator}\""
      ],
      "metadata": {
        "id": "Y5awmZMUAKVB"
      },
      "execution_count": 46,
      "outputs": []
    },
    {
      "cell_type": "code",
      "source": [
        "f = Fraction(3, 4)\n",
        "print(f)"
      ],
      "metadata": {
        "colab": {
          "base_uri": "https://localhost:8080/"
        },
        "id": "wGDCOo9WAhxT",
        "outputId": "0b7a8b50-185d-4826-e8eb-7db00a4ddea6"
      },
      "execution_count": 47,
      "outputs": [
        {
          "output_type": "stream",
          "name": "stdout",
          "text": [
            "3/4\n"
          ]
        }
      ]
    },
    {
      "cell_type": "code",
      "source": [
        "#Q10. Demonstrate operator overloading by creating a class Vector and overriding the add method to add two vectors.\n",
        "class Vector:\n",
        "    def __init__(self, x, y):\n",
        "        self.x = x\n",
        "        self.y = y\n",
        "\n",
        "    def __add__(self, other):\n",
        "        return Vector(self.x + other.x, self.y + other.y)"
      ],
      "metadata": {
        "id": "H015ZbS5AoQK"
      },
      "execution_count": 48,
      "outputs": []
    },
    {
      "cell_type": "code",
      "source": [
        "f = Fraction(3, 4)\n",
        "print(f)"
      ],
      "metadata": {
        "colab": {
          "base_uri": "https://localhost:8080/"
        },
        "id": "9BmT2-cGAz9l",
        "outputId": "8646b74e-5915-4050-fa57-94a58a298c92"
      },
      "execution_count": 49,
      "outputs": [
        {
          "output_type": "stream",
          "name": "stdout",
          "text": [
            "3/4\n"
          ]
        }
      ]
    },
    {
      "cell_type": "code",
      "source": [
        "#11. Create a class Person with attributes name and age. Add a method greet() that prints \"Hello, my name is {name} and I am [age] years old.\"\n",
        "class Person:\n",
        "    def __init__(self, name, age):\n",
        "        self.name = name\n",
        "        self.age = age\n",
        "\n",
        "    def greet(self):\n",
        "        print(f\"Hello, my name is {self.name} and I am {self.age} years old.\")"
      ],
      "metadata": {
        "id": "NcqN5ORfA8od"
      },
      "execution_count": 50,
      "outputs": []
    },
    {
      "cell_type": "code",
      "source": [
        "p = Person(\"Rushikesh\", 28)\n",
        "p.greet()"
      ],
      "metadata": {
        "colab": {
          "base_uri": "https://localhost:8080/"
        },
        "id": "kuwFWwiwBM-M",
        "outputId": "20f34be1-dea6-4529-d89d-033bdc685c52"
      },
      "execution_count": 51,
      "outputs": [
        {
          "output_type": "stream",
          "name": "stdout",
          "text": [
            "Hello, my name is Rushikesh and I am 28 years old.\n"
          ]
        }
      ]
    },
    {
      "cell_type": "code",
      "source": [
        "#Q12. Implement a class Student with attributes name and grades. Create a method average_grade() to compute the average of the grades.\n",
        "class Student:\n",
        "    def __init__(self, name, grades):\n",
        "        self.name = name\n",
        "        self.grades = grades\n",
        "\n",
        "    def average_grade(self):\n",
        "        return sum(self.grades) / len(self.grades)"
      ],
      "metadata": {
        "id": "fI0KnGTHBUq1"
      },
      "execution_count": 52,
      "outputs": []
    },
    {
      "cell_type": "code",
      "source": [
        "s = Student(\"Rushikesh\", [95, 85, 92])\n",
        "print(f\"Average grade: {s.average_grade()}\")"
      ],
      "metadata": {
        "colab": {
          "base_uri": "https://localhost:8080/"
        },
        "id": "WME3RmGRBq-u",
        "outputId": "cf41241f-cdde-46f3-f946-1fa07b8d2b04"
      },
      "execution_count": 54,
      "outputs": [
        {
          "output_type": "stream",
          "name": "stdout",
          "text": [
            "Average grade: 90.66666666666667\n"
          ]
        }
      ]
    },
    {
      "cell_type": "code",
      "source": [
        "#Q13. Create a class Rectangle with methods set_dimensions() to set the dimensions and area() to calculate the area.\n",
        "class Rectangle:\n",
        "    def __init__(self):\n",
        "        self.length = 0\n",
        "        self.width = 0\n",
        "\n",
        "    def set_dimensions(self, length, width):\n",
        "        self.length = length\n",
        "        self.width = width\n",
        "\n",
        "    def area(self):\n",
        "        return self.length*self.width"
      ],
      "metadata": {
        "id": "uUbiWn5AB8ef"
      },
      "execution_count": 55,
      "outputs": []
    },
    {
      "cell_type": "code",
      "source": [
        "rect = Rectangle()\n",
        "rect.set_dimensions(5, 3)\n",
        "print(f\"Area: {rect.area()}\")"
      ],
      "metadata": {
        "colab": {
          "base_uri": "https://localhost:8080/"
        },
        "id": "jgaz-EnOCSO9",
        "outputId": "b0cb6312-ce8a-469d-c00e-f6053a4cb762"
      },
      "execution_count": 56,
      "outputs": [
        {
          "output_type": "stream",
          "name": "stdout",
          "text": [
            "Area: 15\n"
          ]
        }
      ]
    },
    {
      "cell_type": "code",
      "source": [
        "#Q14. Create a class Employee with a method calculate salary() that computes the salary based on hours worked and hourly rate. Create a derived class Manager that adds a bonus to the salary.\n",
        "class Employee:\n",
        "    def __init__(self, name, hours_worked, hourly_rate):\n",
        "        self.name = name\n",
        "        self.hours_worked = hours_worked\n",
        "        self.hourly_rate = hourly_rate\n",
        "\n",
        "    def calculate_salary(self):\n",
        "        return self.hours_worked * self.hourly_rate\n",
        "\n",
        "class Manager(Employee):\n",
        "    def __init__(self, name, hours_worked, hourly_rate, bonus):\n",
        "        super().__init__(name, hours_worked, hourly_rate)\n",
        "        self.bonus = bonus\n",
        "\n",
        "    def calculate_salary(self):\n",
        "        base_salary = super().calculate_salary()\n",
        "        return base_salary + self.bonus"
      ],
      "metadata": {
        "id": "2rxB-SGVCd3t"
      },
      "execution_count": 73,
      "outputs": []
    },
    {
      "cell_type": "code",
      "source": [
        "emp = Employee(\"Rushikesh\", 1800, 20)\n",
        "print(f\"{emp.name}'s Salary: {emp.calculate_salary()}\")"
      ],
      "metadata": {
        "colab": {
          "base_uri": "https://localhost:8080/"
        },
        "id": "04n7OYGYCum1",
        "outputId": "da175dec-f0f6-4224-874b-1f0ffbc62579"
      },
      "execution_count": 78,
      "outputs": [
        {
          "output_type": "stream",
          "name": "stdout",
          "text": [
            "Rushikesh's Salary: 36000\n"
          ]
        }
      ]
    },
    {
      "cell_type": "code",
      "source": [
        "#Q15. Create a class Product with attributes name, price, and quantity. Implement a method total_price() that calculates the total price of the product.\n",
        "class Product:\n",
        "    def __init__(self, name, price, quantity):\n",
        "        self.name = name\n",
        "        self.price = price\n",
        "        self.quantity = quantity\n",
        "\n",
        "    def total_price(self):\n",
        "        return self.price * self.quantity"
      ],
      "metadata": {
        "id": "8J0RZeO3EisH"
      },
      "execution_count": 79,
      "outputs": []
    },
    {
      "cell_type": "code",
      "source": [
        "product = Product(\"Laptop\", 75000, 2)\n",
        "print(f\"Total price: ₹{product.total_price()}\")"
      ],
      "metadata": {
        "colab": {
          "base_uri": "https://localhost:8080/"
        },
        "id": "INe4qR8bE5_o",
        "outputId": "6a1eb772-b027-4348-a7cf-995d3437eb2f"
      },
      "execution_count": 80,
      "outputs": [
        {
          "output_type": "stream",
          "name": "stdout",
          "text": [
            "Total price: ₹150000\n"
          ]
        }
      ]
    },
    {
      "cell_type": "code",
      "source": [
        "#Q16. Create a class Animal with an abstract method sound(). Create two derived classes Cow and Sheep that implement the sound() method.\n",
        "from abc import ABC, abstractmethod\n",
        "\n",
        "class Animal(ABC):\n",
        "    @abstractmethod\n",
        "    def sound(self):\n",
        "        pass\n",
        "\n",
        "class Cow(Animal):\n",
        "    def sound(self):\n",
        "        return \"Moo\"\n",
        "\n",
        "class Sheep(Animal):\n",
        "    def sound(self):\n",
        "        return \"Baa\""
      ],
      "metadata": {
        "id": "7c_z7K5dFARO"
      },
      "execution_count": 86,
      "outputs": []
    },
    {
      "cell_type": "code",
      "source": [
        "cow = Cow()\n",
        "sheep = Sheep()\n",
        "print(f\"Cow says: {cow.sound()}\")\n",
        "print(f\"Sheep says: {sheep.sound()}\")"
      ],
      "metadata": {
        "colab": {
          "base_uri": "https://localhost:8080/"
        },
        "id": "a_ouImV9FJF1",
        "outputId": "033293de-9468-49e6-9e09-dab2ca3d13ab"
      },
      "execution_count": 87,
      "outputs": [
        {
          "output_type": "stream",
          "name": "stdout",
          "text": [
            "Cow says: Moo\n",
            "Sheep says: Baa\n"
          ]
        }
      ]
    },
    {
      "cell_type": "code",
      "source": [
        "#Q17. Create a class Book with attributes title, author, and year_published. Add a method get_book_info() that returns a formatted string with the book's details.\n",
        "class Book:\n",
        "    def __init__(self, title, author, year_published):\n",
        "        self.title = title\n",
        "        self.author = author\n",
        "        self.year_published = year_published\n",
        "\n",
        "    def get_book_info(self):\n",
        "        return f\"'{self.title}' by {self.author}, published in {self.year_published}\""
      ],
      "metadata": {
        "id": "1ZGO4BoGFYQu"
      },
      "execution_count": 90,
      "outputs": []
    },
    {
      "cell_type": "code",
      "source": [
        "book = Book(\"My Life Story\", \"Rushikesh Wakte\", 2025)\n",
        "print(book.get_book_info())"
      ],
      "metadata": {
        "colab": {
          "base_uri": "https://localhost:8080/"
        },
        "id": "Kkw4oJNbFjv1",
        "outputId": "1cef7a40-aecd-46a8-c903-ddd4aabbd10f"
      },
      "execution_count": 92,
      "outputs": [
        {
          "output_type": "stream",
          "name": "stdout",
          "text": [
            "'My Life Story' by Rushikesh Wakte, published in 2025\n"
          ]
        }
      ]
    },
    {
      "cell_type": "code",
      "source": [
        "#Q18. Create a class House with attributes address and price. Create a derived class Mansion that adds an attribute number_of_rooms.\n",
        "class House:\n",
        "    def __init__(self, address, price):\n",
        "        self.address = address\n",
        "        self.price = price\n",
        "\n",
        "class Mansion(House):\n",
        "    def __init__(self, address, price, number_of_rooms):\n",
        "        super().__init__(address, price)\n",
        "        self.number_of_rooms = number_of_rooms"
      ],
      "metadata": {
        "id": "yvoOxauhGHcQ"
      },
      "execution_count": 93,
      "outputs": []
    },
    {
      "cell_type": "code",
      "source": [
        "mansion = Mansion(\"102 Rushi Vella\", 50000000, 10)\n",
        "print(f\"Address: {mansion.address}\")\n",
        "print(f\"Price: ₹{mansion.price}\")\n",
        "print(f\"Number of Rooms: {mansion.number_of_rooms}\")"
      ],
      "metadata": {
        "colab": {
          "base_uri": "https://localhost:8080/"
        },
        "id": "B6TqKZATGd1f",
        "outputId": "b9a4ef00-a339-43b0-e0eb-4e034d9a5c44"
      },
      "execution_count": 94,
      "outputs": [
        {
          "output_type": "stream",
          "name": "stdout",
          "text": [
            "Address: 102 Rushi Vella\n",
            "Price: ₹50000000\n",
            "Number of Rooms: 10\n"
          ]
        }
      ]
    }
  ]
}